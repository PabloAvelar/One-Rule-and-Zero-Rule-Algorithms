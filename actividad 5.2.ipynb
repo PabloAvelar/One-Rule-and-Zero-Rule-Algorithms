{
 "cells": [
  {
   "cell_type": "markdown",
   "id": "5744feed-071a-4f0b-8af9-69fa8eadcfce",
   "metadata": {},
   "source": [
    "# Actividad 5.2. Implementación de algoritmos Zero-R y One-R\n",
    "## Minería de datos\n",
    "### Pablo Avelar Armenta"
   ]
  },
  {
   "cell_type": "code",
   "execution_count": 56,
   "id": "cd0e4d5a-79c5-4887-ac5f-1ae2493d48fe",
   "metadata": {},
   "outputs": [],
   "source": [
    "import pandas as pd\n",
    "\n",
    "from sklearn.model_selection import train_test_split\n",
    "from sklearn.metrics import accuracy_score"
   ]
  },
  {
   "cell_type": "markdown",
   "id": "c5bdddd4-66a3-408e-85c6-13f2fbfc8e2f",
   "metadata": {},
   "source": [
    "# Cargando los datos"
   ]
  },
  {
   "cell_type": "code",
   "execution_count": 57,
   "id": "dd5e4ccb-a047-43a6-ab78-5b423e0c3eea",
   "metadata": {},
   "outputs": [],
   "source": [
    "data = pd.read_csv(\"datasets/db.csv\")\n",
    "\n",
    "attributes = data.drop('Clase', axis=1) # Características\n",
    "class_ = data['Clase'] # Clase objetivo"
   ]
  },
  {
   "cell_type": "markdown",
   "id": "e25a6c71-ff1d-4290-af50-028ec6125b94",
   "metadata": {},
   "source": [
    "# Diviendo en conjunto de entrenamiento y de prueba\n",
    "Se indica que el 30% de los datos se destinará al conjunto de prueba, mientras que el 70% restante se destinará al conjunto de entrenamiento"
   ]
  },
  {
   "cell_type": "code",
   "execution_count": 58,
   "id": "f66e3b40-0742-4311-bd3c-5faa5fe11632",
   "metadata": {},
   "outputs": [],
   "source": [
    "attributes_train, attributes_test, class_train, class_test = train_test_split(attributes, class_, test_size=0.3)"
   ]
  },
  {
   "cell_type": "markdown",
   "id": "0705c665-c1bc-4f8e-ac97-70c12f05f4ce",
   "metadata": {},
   "source": [
    "## Clase del conjunto de entrenamiento"
   ]
  },
  {
   "cell_type": "code",
   "execution_count": 59,
   "id": "5aebebd1-754a-436d-9f98-06f8803f9754",
   "metadata": {},
   "outputs": [
    {
     "data": {
      "text/plain": [
       "14     good\n",
       "9      good\n",
       "1       acc\n",
       "10      acc\n",
       "12    unacc\n",
       "2     unacc\n",
       "6     unacc\n",
       "7     unacc\n",
       "5      good\n",
       "4      good\n",
       "Name: Clase, dtype: object"
      ]
     },
     "execution_count": 59,
     "metadata": {},
     "output_type": "execute_result"
    }
   ],
   "source": [
    "class_train"
   ]
  },
  {
   "cell_type": "markdown",
   "id": "4fbfafd0-a5a9-49b9-81c0-f674b924609b",
   "metadata": {},
   "source": [
    "## Clase del conjunto de pruebas"
   ]
  },
  {
   "cell_type": "code",
   "execution_count": 60,
   "id": "c1423a3b-0a97-45e2-abb5-0aa07bd4e6c6",
   "metadata": {},
   "outputs": [
    {
     "data": {
      "text/plain": [
       "13     good\n",
       "3     unacc\n",
       "11     good\n",
       "8       acc\n",
       "0       acc\n",
       "Name: Clase, dtype: object"
      ]
     },
     "execution_count": 60,
     "metadata": {},
     "output_type": "execute_result"
    }
   ],
   "source": [
    "class_test"
   ]
  },
  {
   "cell_type": "markdown",
   "id": "3a3b77ee-f1d7-4b64-a45c-6be19a8cda36",
   "metadata": {},
   "source": [
    "## Conjunto de entrenamiento"
   ]
  },
  {
   "cell_type": "code",
   "execution_count": 61,
   "id": "9f70ddb5-0557-4d7d-a0f9-8f9b9d3268df",
   "metadata": {},
   "outputs": [
    {
     "data": {
      "text/html": [
       "<div>\n",
       "<style scoped>\n",
       "    .dataframe tbody tr th:only-of-type {\n",
       "        vertical-align: middle;\n",
       "    }\n",
       "\n",
       "    .dataframe tbody tr th {\n",
       "        vertical-align: top;\n",
       "    }\n",
       "\n",
       "    .dataframe thead th {\n",
       "        text-align: right;\n",
       "    }\n",
       "</style>\n",
       "<table border=\"1\" class=\"dataframe\">\n",
       "  <thead>\n",
       "    <tr style=\"text-align: right;\">\n",
       "      <th></th>\n",
       "      <th>Compra\\n(Ordinal)</th>\n",
       "      <th>Mantenimiento\\n(Ordinal)</th>\n",
       "      <th>Puertas\\n(Nominal)</th>\n",
       "      <th>Personas\\n(Nominal)</th>\n",
       "    </tr>\n",
       "  </thead>\n",
       "  <tbody>\n",
       "    <tr>\n",
       "      <th>14</th>\n",
       "      <td>med</td>\n",
       "      <td>low</td>\n",
       "      <td>3</td>\n",
       "      <td>more</td>\n",
       "    </tr>\n",
       "    <tr>\n",
       "      <th>9</th>\n",
       "      <td>low</td>\n",
       "      <td>low</td>\n",
       "      <td>4</td>\n",
       "      <td>4</td>\n",
       "    </tr>\n",
       "    <tr>\n",
       "      <th>1</th>\n",
       "      <td>vhigh</td>\n",
       "      <td>med</td>\n",
       "      <td>4</td>\n",
       "      <td>4</td>\n",
       "    </tr>\n",
       "    <tr>\n",
       "      <th>10</th>\n",
       "      <td>vhigh</td>\n",
       "      <td>med</td>\n",
       "      <td>2</td>\n",
       "      <td>more</td>\n",
       "    </tr>\n",
       "    <tr>\n",
       "      <th>12</th>\n",
       "      <td>vhigh</td>\n",
       "      <td>vhigh</td>\n",
       "      <td>3</td>\n",
       "      <td>2</td>\n",
       "    </tr>\n",
       "    <tr>\n",
       "      <th>2</th>\n",
       "      <td>vhigh</td>\n",
       "      <td>vhigh</td>\n",
       "      <td>3</td>\n",
       "      <td>2</td>\n",
       "    </tr>\n",
       "    <tr>\n",
       "      <th>6</th>\n",
       "      <td>vhigh</td>\n",
       "      <td>vhigh</td>\n",
       "      <td>4</td>\n",
       "      <td>more</td>\n",
       "    </tr>\n",
       "    <tr>\n",
       "      <th>7</th>\n",
       "      <td>vhigh</td>\n",
       "      <td>vhigh</td>\n",
       "      <td>2</td>\n",
       "      <td>4</td>\n",
       "    </tr>\n",
       "    <tr>\n",
       "      <th>5</th>\n",
       "      <td>med</td>\n",
       "      <td>low</td>\n",
       "      <td>2</td>\n",
       "      <td>4</td>\n",
       "    </tr>\n",
       "    <tr>\n",
       "      <th>4</th>\n",
       "      <td>med</td>\n",
       "      <td>low</td>\n",
       "      <td>2</td>\n",
       "      <td>more</td>\n",
       "    </tr>\n",
       "  </tbody>\n",
       "</table>\n",
       "</div>"
      ],
      "text/plain": [
       "   Compra\\n(Ordinal) Mantenimiento\\n(Ordinal)  Puertas\\n(Nominal)  \\\n",
       "14               med                      low                   3   \n",
       "9                low                      low                   4   \n",
       "1              vhigh                      med                   4   \n",
       "10             vhigh                      med                   2   \n",
       "12             vhigh                    vhigh                   3   \n",
       "2              vhigh                    vhigh                   3   \n",
       "6              vhigh                    vhigh                   4   \n",
       "7              vhigh                    vhigh                   2   \n",
       "5                med                      low                   2   \n",
       "4                med                      low                   2   \n",
       "\n",
       "   Personas\\n(Nominal)  \n",
       "14                more  \n",
       "9                    4  \n",
       "1                    4  \n",
       "10                more  \n",
       "12                   2  \n",
       "2                    2  \n",
       "6                 more  \n",
       "7                    4  \n",
       "5                    4  \n",
       "4                 more  "
      ]
     },
     "execution_count": 61,
     "metadata": {},
     "output_type": "execute_result"
    }
   ],
   "source": [
    "attributes_train"
   ]
  },
  {
   "cell_type": "markdown",
   "id": "b2f8c3e1-4469-4c10-b441-790c7d744f50",
   "metadata": {},
   "source": [
    "## Conjunto de entrenamiento"
   ]
  },
  {
   "cell_type": "code",
   "execution_count": 62,
   "id": "8b1523d3-ee5d-4263-9dc4-123b9018940a",
   "metadata": {},
   "outputs": [
    {
     "data": {
      "text/html": [
       "<div>\n",
       "<style scoped>\n",
       "    .dataframe tbody tr th:only-of-type {\n",
       "        vertical-align: middle;\n",
       "    }\n",
       "\n",
       "    .dataframe tbody tr th {\n",
       "        vertical-align: top;\n",
       "    }\n",
       "\n",
       "    .dataframe thead th {\n",
       "        text-align: right;\n",
       "    }\n",
       "</style>\n",
       "<table border=\"1\" class=\"dataframe\">\n",
       "  <thead>\n",
       "    <tr style=\"text-align: right;\">\n",
       "      <th></th>\n",
       "      <th>Compra\\n(Ordinal)</th>\n",
       "      <th>Mantenimiento\\n(Ordinal)</th>\n",
       "      <th>Puertas\\n(Nominal)</th>\n",
       "      <th>Personas\\n(Nominal)</th>\n",
       "    </tr>\n",
       "  </thead>\n",
       "  <tbody>\n",
       "    <tr>\n",
       "      <th>13</th>\n",
       "      <td>low</td>\n",
       "      <td>low</td>\n",
       "      <td>4</td>\n",
       "      <td>more</td>\n",
       "    </tr>\n",
       "    <tr>\n",
       "      <th>3</th>\n",
       "      <td>vhigh</td>\n",
       "      <td>vhigh</td>\n",
       "      <td>2</td>\n",
       "      <td>4</td>\n",
       "    </tr>\n",
       "    <tr>\n",
       "      <th>11</th>\n",
       "      <td>low</td>\n",
       "      <td>low</td>\n",
       "      <td>4</td>\n",
       "      <td>more</td>\n",
       "    </tr>\n",
       "    <tr>\n",
       "      <th>8</th>\n",
       "      <td>vhigh</td>\n",
       "      <td>med</td>\n",
       "      <td>3</td>\n",
       "      <td>4</td>\n",
       "    </tr>\n",
       "    <tr>\n",
       "      <th>0</th>\n",
       "      <td>vhigh</td>\n",
       "      <td>med</td>\n",
       "      <td>3</td>\n",
       "      <td>4</td>\n",
       "    </tr>\n",
       "  </tbody>\n",
       "</table>\n",
       "</div>"
      ],
      "text/plain": [
       "   Compra\\n(Ordinal) Mantenimiento\\n(Ordinal)  Puertas\\n(Nominal)  \\\n",
       "13               low                      low                   4   \n",
       "3              vhigh                    vhigh                   2   \n",
       "11               low                      low                   4   \n",
       "8              vhigh                      med                   3   \n",
       "0              vhigh                      med                   3   \n",
       "\n",
       "   Personas\\n(Nominal)  \n",
       "13                more  \n",
       "3                    4  \n",
       "11                more  \n",
       "8                    4  \n",
       "0                    4  "
      ]
     },
     "execution_count": 62,
     "metadata": {},
     "output_type": "execute_result"
    }
   ],
   "source": [
    "attributes_test"
   ]
  },
  {
   "cell_type": "markdown",
   "id": "b3bb40af-911d-480a-9cda-21a09a90d296",
   "metadata": {},
   "source": [
    "# Algoritmo One Rule"
   ]
  },
  {
   "cell_type": "code",
   "execution_count": 63,
   "id": "cf57c0a8-30d5-4185-b43a-29c381dc861e",
   "metadata": {},
   "outputs": [
    {
     "name": "stdout",
     "output_type": "stream",
     "text": [
      "El mejor atributo: Mantenimiento\n",
      "(Ordinal)\n",
      "Precisión en conjunto de pruebas: 1.00\n"
     ]
    }
   ],
   "source": [
    "def one_rule(attr_train, class_train):\n",
    "    best_feature = None\n",
    "    best_accuracy = 0\n",
    "    best_rules = {}\n",
    "\n",
    "    # Se itera por cada atributo\n",
    "    for column in attr_train.columns:\n",
    "        # Se almacena el valor más común por cada valor del atributo\n",
    "        rules = {}\n",
    "        for value in attr_train[column].unique():\n",
    "            most_common_class = class_train[attr_train[column] == value].mode()[0]\n",
    "            rules[value] = most_common_class\n",
    "\n",
    "        # Calcula la precisión del conjunto de entrenamiento\n",
    "        predictions = attr_train[column].map(rules)\n",
    "        accuracy = accuracy_score(class_train, predictions)\n",
    "\n",
    "        # Guarda si es la mejor precisión\n",
    "        if accuracy > best_accuracy:\n",
    "            best_accuracy = accuracy\n",
    "            best_feature = column\n",
    "            best_rules = rules\n",
    "\n",
    "    return best_feature, best_rules\n",
    "\n",
    "# Se obtiene la mejor regla!!\n",
    "best_feature, best_rules = one_rule(attributes_train, class_train)\n",
    "\n",
    "# Se hacen predicciones en el conjunto de prueba usando la mejor regla!!!!\n",
    "predictions = attributes_test[best_feature].map(best_rules)\n",
    "\n",
    "# Se calcula la precisión\n",
    "accuracy = accuracy_score(class_test, predictions)\n",
    "print(f\"El mejor atributo: {best_feature}\")\n",
    "print(f\"Precisión en conjunto de pruebas: {accuracy:.2f}\")"
   ]
  },
  {
   "cell_type": "markdown",
   "id": "fb1349a7-9bdb-4a2f-9cff-08d0ac03cece",
   "metadata": {},
   "source": [
    "# Zero-R"
   ]
  },
  {
   "cell_type": "code",
   "execution_count": 64,
   "id": "f3690ad0-5380-48a9-a09b-580a13791cf7",
   "metadata": {},
   "outputs": [
    {
     "name": "stdout",
     "output_type": "stream",
     "text": [
      "Clase más frecuente: good\n",
      "Precisión del algoritmo: 0.40\n"
     ]
    }
   ],
   "source": [
    "def zero_rule(class_train):\n",
    "    return class_train.mode()[0]\n",
    "\n",
    "most_common_class = zero_rule(class_train)\n",
    "\n",
    "# Se crea una lista de predicciones con la clase más frecuente!!\n",
    "predictions = [most_common_class] * len(class_test)\n",
    "\n",
    "accuracy = accuracy_score(class_test, predictions)\n",
    "\n",
    "print(f\"Clase más frecuente: {most_common_class}\")\n",
    "print(f\"Precisión del algoritmo: {accuracy:.2f}\")"
   ]
  }
 ],
 "metadata": {
  "kernelspec": {
   "display_name": "Python 3 (ipykernel)",
   "language": "python",
   "name": "python3"
  },
  "language_info": {
   "codemirror_mode": {
    "name": "ipython",
    "version": 3
   },
   "file_extension": ".py",
   "mimetype": "text/x-python",
   "name": "python",
   "nbconvert_exporter": "python",
   "pygments_lexer": "ipython3",
   "version": "3.9.13"
  }
 },
 "nbformat": 4,
 "nbformat_minor": 5
}
